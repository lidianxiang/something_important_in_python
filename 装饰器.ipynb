{
 "cells": [
  {
   "cell_type": "markdown",
   "metadata": {},
   "source": [
    "##  hello，装饰器"
   ]
  },
  {
   "cell_type": "markdown",
   "metadata": {},
   "source": [
    "**装饰器**放在一个函数开始定义的地方，它就像一顶帽子一样戴在这个函数的头上。和这个函数绑定在一起。在我们调用这个函数的时候，第一件事并不是执行这个函数，而是将这个函数做为参数传入它头顶上这顶帽子，这顶帽子我们称之为 装饰器 。\n",
    "\n",
    "你要问我装饰器可以实现什么功能？我只能说你的脑洞有多大，装饰器就有多强大。\n",
    "\n",
    "装饰器的使用方法很固定：\n",
    "\n",
    "+ 先定义一个装饰函数（帽子）（也可以用类、偏函数实现）\n",
    "\n",
    "+ 再定义你的业务函数、或者类（人）\n",
    "\n",
    "+ 最后把这顶帽子带在这个人头上\n",
    "\n",
    "装饰器的简单的用法有很多，这里举两个常见的:\n",
    "\n",
    "1. 日志打印器\n",
    "2. 时间计时器\n"
   ]
  },
  {
   "cell_type": "markdown",
   "metadata": {
    "ExecuteTime": {
     "end_time": "2019-09-18T08:58:26.438097Z",
     "start_time": "2019-09-18T08:58:26.434358Z"
    }
   },
   "source": [
    "## 入门用法：日志打印器\n",
    "\n",
    "首先是日志打印器。实现的功能：\n",
    "\n",
    "> 在函数执行前，先打印一行日志告知一下主人，我要执行函数了。在函数执行完，也不能拍拍屁股就走人了，再打印一行日志告诉主人，我执行完了。"
   ]
  },
  {
   "cell_type": "code",
   "execution_count": 1,
   "metadata": {
    "ExecuteTime": {
     "end_time": "2019-09-18T13:32:10.820628Z",
     "start_time": "2019-09-18T13:32:10.811977Z"
    },
    "collapsed": true
   },
   "outputs": [],
   "source": [
    "# 这是装饰函数\n",
    "def logger(func):\n",
    "    def wrapper(*args, **kw):\n",
    "        print('我要准备开始计算： {}函数了'.format(func.__name__))\n",
    "        \n",
    "        # 真正要执行的函数\n",
    "        func(*args, **kw)\n",
    "        \n",
    "        print('啊哈， 我计算完了。给自己加个鸡腿🍗！！')\n",
    "        \n",
    "    return wrapper"
   ]
  },
  {
   "cell_type": "code",
   "execution_count": 2,
   "metadata": {
    "ExecuteTime": {
     "end_time": "2019-09-18T13:32:10.825143Z",
     "start_time": "2019-09-18T13:32:10.822142Z"
    },
    "collapsed": true
   },
   "outputs": [],
   "source": [
    "@logger\n",
    "def add(x,y):\n",
    "    print('{} + {} = {}'.format(x,y,x+y))"
   ]
  },
  {
   "cell_type": "code",
   "execution_count": 3,
   "metadata": {
    "ExecuteTime": {
     "end_time": "2019-09-18T13:32:10.829784Z",
     "start_time": "2019-09-18T13:32:10.826726Z"
    }
   },
   "outputs": [
    {
     "name": "stdout",
     "output_type": "stream",
     "text": [
      "我要准备开始计算： add函数了\n",
      "3 + 5 = 8\n",
      "啊哈， 我计算完了。给自己加个鸡腿🍗！！\n"
     ]
    }
   ],
   "source": [
    "add(3,5)"
   ]
  },
  {
   "cell_type": "markdown",
   "metadata": {
    "ExecuteTime": {
     "end_time": "2019-09-18T09:05:54.879980Z",
     "start_time": "2019-09-18T09:05:54.875966Z"
    }
   },
   "source": [
    "## 入门用法：时间计时器\n",
    "\n",
    "在来看看时间计时器实现的功能：\n",
    "\n",
    "> 顾名思义就是计算一个函数运行所需要的时间。"
   ]
  },
  {
   "cell_type": "code",
   "execution_count": 4,
   "metadata": {
    "ExecuteTime": {
     "end_time": "2019-09-18T13:32:10.838933Z",
     "start_time": "2019-09-18T13:32:10.831343Z"
    },
    "collapsed": true
   },
   "outputs": [],
   "source": [
    "import time\n",
    "\n",
    "# 这是装饰函数，即装饰器\n",
    "def timer(func):\n",
    "    def wrapper(*args, **kw):\n",
    "        t1 = time.time()\n",
    "        \n",
    "        func(*args, **kw)\n",
    "        \n",
    "        t2 = time.time()\n",
    "        # 计算一下所需的时间\n",
    "        cost_time = t2 - t1\n",
    "        print(\"花费的时间是：{}秒\".format(cost_time))\n",
    "    return wrapper"
   ]
  },
  {
   "cell_type": "code",
   "execution_count": 5,
   "metadata": {
    "ExecuteTime": {
     "end_time": "2019-09-18T13:32:10.843557Z",
     "start_time": "2019-09-18T13:32:10.840553Z"
    },
    "collapsed": true
   },
   "outputs": [],
   "source": [
    "# 假如我们让函数睡眠10秒～\n",
    "\n",
    "@timer\n",
    "def sleep_second(sleep_time):\n",
    "    \n",
    "    time.sleep(sleep_time)"
   ]
  },
  {
   "cell_type": "code",
   "execution_count": 6,
   "metadata": {
    "ExecuteTime": {
     "end_time": "2019-09-18T13:32:20.854189Z",
     "start_time": "2019-09-18T13:32:10.845150Z"
    }
   },
   "outputs": [
    {
     "name": "stdout",
     "output_type": "stream",
     "text": [
      "花费的时间是：10.005182981491089秒\n"
     ]
    }
   ],
   "source": [
    "# 运行一下看看👀\n",
    "sleep_second(10)"
   ]
  },
  {
   "cell_type": "markdown",
   "metadata": {},
   "source": [
    "## 进阶用法：带参数的函数装饰器\n",
    "\n",
    "上面的例子，装饰器是不能接收参数的。其用法，只能适用于一些简单的场景。不传参的装饰器，只能对被装饰函数，执行固定逻辑。\n",
    "\n",
    "如果你有经验，你一定经常在项目中，看到有的装饰器是带有参数的。\n",
    "\n",
    "装饰器本身是一个函数，既然做为一个函数都不能携带函数，那这个函数的功能就很受限。只能执行固定的逻辑。这无疑是非常不合理的。而如果我们要用到两个内容大体一致，只是某些地方不同的逻辑。不传参的话，我们就要写两个装饰器。\n",
    "\n",
    "那么装饰器如何实现传参呢，会比较复杂，需要两层嵌套。"
   ]
  },
  {
   "cell_type": "code",
   "execution_count": 7,
   "metadata": {
    "ExecuteTime": {
     "end_time": "2019-09-18T13:32:20.865070Z",
     "start_time": "2019-09-18T13:32:20.856266Z"
    },
    "collapsed": true
   },
   "outputs": [],
   "source": [
    "def say_hello(country):\n",
    "    def wrapper(func):\n",
    "        def deco(*args, **kw):\n",
    "            if country == 'china':\n",
    "                print('你好！')\n",
    "            if country == 'america':\n",
    "                print('hello！')\n",
    "            # 真正执行函数的地方\n",
    "            func(*args, **kw)\n",
    "        return deco\n",
    "    return wrapper"
   ]
  },
  {
   "cell_type": "code",
   "execution_count": 8,
   "metadata": {
    "ExecuteTime": {
     "end_time": "2019-09-18T13:32:20.869997Z",
     "start_time": "2019-09-18T13:32:20.866972Z"
    },
    "collapsed": true
   },
   "outputs": [],
   "source": [
    "@say_hello('china')\n",
    "def chinese():\n",
    "    print('我来自中国。')"
   ]
  },
  {
   "cell_type": "code",
   "execution_count": 9,
   "metadata": {
    "ExecuteTime": {
     "end_time": "2019-09-18T13:32:20.875185Z",
     "start_time": "2019-09-18T13:32:20.871947Z"
    }
   },
   "outputs": [
    {
     "name": "stdout",
     "output_type": "stream",
     "text": [
      "你好！\n",
      "我来自中国。\n"
     ]
    }
   ],
   "source": [
    "chinese()"
   ]
  },
  {
   "cell_type": "code",
   "execution_count": 10,
   "metadata": {
    "ExecuteTime": {
     "end_time": "2019-09-18T13:32:20.879900Z",
     "start_time": "2019-09-18T13:32:20.876849Z"
    },
    "collapsed": true
   },
   "outputs": [],
   "source": [
    "@say_hello('america')\n",
    "def american():\n",
    "    print(\"I'm from American\")"
   ]
  },
  {
   "cell_type": "code",
   "execution_count": 11,
   "metadata": {
    "ExecuteTime": {
     "end_time": "2019-09-18T13:32:20.884761Z",
     "start_time": "2019-09-18T13:32:20.881645Z"
    }
   },
   "outputs": [
    {
     "name": "stdout",
     "output_type": "stream",
     "text": [
      "hello！\n",
      "I'm from American\n"
     ]
    }
   ],
   "source": [
    "american()"
   ]
  },
  {
   "cell_type": "markdown",
   "metadata": {},
   "source": [
    "## 高阶用法：不带参数的类装饰器"
   ]
  },
  {
   "cell_type": "markdown",
   "metadata": {},
   "source": [
    "以上都是基于函数实现的装饰器，在阅读别人代码是，还可以时常发现还有基于类实现的装饰器。\n",
    "\n",
    "基于类装饰器的实现，必须实现`__call__`和`__init__`两个内置函数。其中：  \n",
    "\n",
    "`__init__`:  接收被装饰函数\n",
    "\n",
    "`__call__`:  实现装饰逻辑"
   ]
  },
  {
   "cell_type": "code",
   "execution_count": 12,
   "metadata": {
    "ExecuteTime": {
     "end_time": "2019-09-18T13:32:20.892261Z",
     "start_time": "2019-09-18T13:32:20.886508Z"
    },
    "collapsed": true
   },
   "outputs": [],
   "source": [
    "class logger(object):\n",
    "    def __init__(self, func):\n",
    "        self._func = func\n",
    "        \n",
    "    def __call__(self, *args, **kwargs):\n",
    "        print(\"[INFO]: the function {func}() is running...\".format(func=self._func.__name__))\n",
    "        \n",
    "        return self._func(*args, **kwargs)"
   ]
  },
  {
   "cell_type": "code",
   "execution_count": 13,
   "metadata": {
    "ExecuteTime": {
     "end_time": "2019-09-18T13:32:20.896662Z",
     "start_time": "2019-09-18T13:32:20.894108Z"
    },
    "collapsed": true
   },
   "outputs": [],
   "source": [
    "@logger\n",
    "def say(something):\n",
    "    print('say {}!'.format(something))"
   ]
  },
  {
   "cell_type": "code",
   "execution_count": 14,
   "metadata": {
    "ExecuteTime": {
     "end_time": "2019-09-18T13:32:20.901428Z",
     "start_time": "2019-09-18T13:32:20.898155Z"
    }
   },
   "outputs": [
    {
     "name": "stdout",
     "output_type": "stream",
     "text": [
      "[INFO]: the function say() is running...\n",
      "say 你好!\n"
     ]
    }
   ],
   "source": [
    "say('你好')"
   ]
  },
  {
   "cell_type": "markdown",
   "metadata": {},
   "source": [
    "## 高阶用法：带参数的类装饰器\n",
    "\n",
    "上面不带参数的例子，只能打印INFO级别的日志。正常情况下，我们还需要打印DEBUG, WARNING等级别的日志。这就需要给类装饰器传入参数，给这个函数指定级别了。\n",
    "\n",
    "带参数和不带参数的类装饰器有很大的不同。\n",
    "\n",
    "`__init__`: 不在接收被装饰函数，而是接收传入参数。  \n",
    "\n",
    "`__call__`: 接收被装饰函数，实现装饰逻辑。"
   ]
  },
  {
   "cell_type": "code",
   "execution_count": 15,
   "metadata": {
    "ExecuteTime": {
     "end_time": "2019-09-18T13:32:20.909671Z",
     "start_time": "2019-09-18T13:32:20.903095Z"
    },
    "collapsed": true
   },
   "outputs": [],
   "source": [
    "class logger(object):\n",
    "    def __init__(self, level=\"INFO\"):\n",
    "        self.level = level\n",
    "        \n",
    "    def __call__(self, func):  # 接收被装饰函数\n",
    "        def wrapper(*args, **kwargs):\n",
    "            print(\"[{level}]: the function {func}() is running...\".format(level=self.level, func=func.__name__))\n",
    "            func(*args, **kwargs)\n",
    "        return wrapper  # 返回函数"
   ]
  },
  {
   "cell_type": "code",
   "execution_count": 16,
   "metadata": {
    "ExecuteTime": {
     "end_time": "2019-09-18T13:32:20.915092Z",
     "start_time": "2019-09-18T13:32:20.911169Z"
    },
    "collapsed": true
   },
   "outputs": [],
   "source": [
    "@logger(level='WARNING')\n",
    "def say(something):\n",
    "    print('say: {}'.format(something))"
   ]
  },
  {
   "cell_type": "code",
   "execution_count": 17,
   "metadata": {
    "ExecuteTime": {
     "end_time": "2019-09-18T13:32:20.921002Z",
     "start_time": "2019-09-18T13:32:20.917522Z"
    }
   },
   "outputs": [
    {
     "name": "stdout",
     "output_type": "stream",
     "text": [
      "[WARNING]: the function say() is running...\n",
      "say: 你好\n"
     ]
    }
   ],
   "source": [
    "say('你好')"
   ]
  },
  {
   "cell_type": "markdown",
   "metadata": {},
   "source": [
    "## wraps装饰器有啥用？\n",
    "\n",
    "在functools标准库中有提供一个wraps装饰器，你应该也经常看到过，那它有什么作用呢？"
   ]
  },
  {
   "cell_type": "code",
   "execution_count": 18,
   "metadata": {
    "ExecuteTime": {
     "end_time": "2019-09-18T13:32:20.928448Z",
     "start_time": "2019-09-18T13:32:20.922635Z"
    }
   },
   "outputs": [
    {
     "name": "stdout",
     "output_type": "stream",
     "text": [
      "inner_function\n"
     ]
    }
   ],
   "source": [
    "def wrapper(func):\n",
    "    def inner_function():\n",
    "        pass\n",
    "    \n",
    "    return inner_function\n",
    "\n",
    "@wrapper\n",
    "def wrapped():\n",
    "    pass\n",
    "\n",
    "print(wrapped.__name__) # inner_function"
   ]
  },
  {
   "cell_type": "markdown",
   "metadata": {},
   "source": [
    "为什么会是这样？不是应该返回func吗？\n",
    "\n",
    "这也不难理解，因为上边执行func和下边的decorator(func)是等价的，所以上面func.__name__是等价于下面的decorator(func).__name__的，那当然名字是inner_function."
   ]
  },
  {
   "cell_type": "code",
   "execution_count": 19,
   "metadata": {
    "ExecuteTime": {
     "end_time": "2019-09-18T13:32:20.935968Z",
     "start_time": "2019-09-18T13:32:20.930242Z"
    }
   },
   "outputs": [
    {
     "name": "stdout",
     "output_type": "stream",
     "text": [
      "inner_function\n"
     ]
    }
   ],
   "source": [
    "def wrapper(func):\n",
    "    def inner_function():\n",
    "        pass\n",
    "    \n",
    "    return inner_function\n",
    "\n",
    "@wrapper\n",
    "def wrapped():\n",
    "    pass\n",
    "\n",
    "print(wrapper(wrapped).__name__) # inner_function"
   ]
  },
  {
   "cell_type": "markdown",
   "metadata": {},
   "source": [
    "那如何避免这种情况的产生？方法是使用 functools .wraps 装饰器，它的作用就是将 被修饰的函数(wrapped) 的一些属性值赋值给 修饰器函数(wrapper) ，最终让属性的显示更符合我们的直觉。"
   ]
  },
  {
   "cell_type": "code",
   "execution_count": 20,
   "metadata": {
    "ExecuteTime": {
     "end_time": "2019-09-18T13:32:20.945199Z",
     "start_time": "2019-09-18T13:32:20.937578Z"
    }
   },
   "outputs": [
    {
     "name": "stdout",
     "output_type": "stream",
     "text": [
      "wrapped\n"
     ]
    }
   ],
   "source": [
    "from functools import wraps\n",
    "\n",
    "def wrapper(func):\n",
    "    @wraps(func)\n",
    "    def inner_function():\n",
    "        pass\n",
    "    \n",
    "    return inner_function\n",
    "    \n",
    "    \n",
    "@wrapper\n",
    "def wrapped():\n",
    "    pass\n",
    "\n",
    "print(wrapped.__name__) # wrapped"
   ]
  },
  {
   "cell_type": "markdown",
   "metadata": {},
   "source": [
    "## 使用偏函数与类实现装饰器\n",
    "\n",
    "绝大多数装饰器都是基于函数和闭包实现的，但这并非制造装饰器的唯一方式。\n",
    "\n",
    "事实上，Python 对某个对象是否能通过装饰器（ @decorator）形式使用只有一个要求：decorator 必须是一个“可被调用（callable）的对象。\n",
    "\n",
    "对于这个 callable 对象，我们最熟悉的就是函数了。\n",
    "\n",
    "除函数之外，类也可以是 callable 对象，只要实现了`__call__` 函数（上面几个盒子已经接触过了），还有比较少人使用的偏函数也是 callable 对象。\n",
    "\n",
    "接下来就来说说，如何使用 类和偏函数结合实现一个与众不同的装饰器。"
   ]
  },
  {
   "cell_type": "code",
   "execution_count": 21,
   "metadata": {
    "ExecuteTime": {
     "end_time": "2019-09-18T13:32:20.962791Z",
     "start_time": "2019-09-18T13:32:20.946843Z"
    },
    "collapsed": true
   },
   "outputs": [],
   "source": [
    "import time \n",
    "import functools\n",
    "\n",
    "class DelayFunc:\n",
    "    \n",
    "    def __init__(self, duration, func):\n",
    "        self.duration = duration\n",
    "        self.func = func\n",
    "        \n",
    "    def __call__(self, *args, **kwargs):\n",
    "        print(f\"Wait for {self.duration} seconds...\")\n",
    "        time.sleep(self.duration)\n",
    "        return self.func(*args, **kwargs)\n",
    "    \n",
    "    def eager_call(self, *args, **kwargs):\n",
    "        print('call without delay')\n",
    "        return self.func(*args, **kwargs)\n",
    "    \n",
    "    \n",
    "def delay(duration):\n",
    "    \"\"\"\n",
    "    装饰器： 推迟某个函数的执行\n",
    "    同时，提供 .eager_call方法立即执行\n",
    "    \"\"\"\n",
    "    return functools.partial(DelayFunc, duration)"
   ]
  },
  {
   "cell_type": "code",
   "execution_count": 22,
   "metadata": {
    "ExecuteTime": {
     "end_time": "2019-09-18T13:32:20.968125Z",
     "start_time": "2019-09-18T13:32:20.964873Z"
    },
    "collapsed": true
   },
   "outputs": [],
   "source": [
    "@delay(duration=2)\n",
    "def add(a,b):\n",
    "    return a+b"
   ]
  },
  {
   "cell_type": "code",
   "execution_count": 23,
   "metadata": {
    "ExecuteTime": {
     "end_time": "2019-09-18T13:32:20.979157Z",
     "start_time": "2019-09-18T13:32:20.969602Z"
    }
   },
   "outputs": [
    {
     "data": {
      "text/plain": [
       "<__main__.DelayFunc at 0x7fb3f002bac8>"
      ]
     },
     "execution_count": 23,
     "metadata": {},
     "output_type": "execute_result"
    }
   ],
   "source": [
    "add # 可见，add变成了Delay的实例"
   ]
  },
  {
   "cell_type": "code",
   "execution_count": 24,
   "metadata": {
    "ExecuteTime": {
     "end_time": "2019-09-18T13:32:22.991167Z",
     "start_time": "2019-09-18T13:32:20.981516Z"
    }
   },
   "outputs": [
    {
     "name": "stdout",
     "output_type": "stream",
     "text": [
      "Wait for 2 seconds...\n"
     ]
    },
    {
     "data": {
      "text/plain": [
       "8"
      ]
     },
     "execution_count": 24,
     "metadata": {},
     "output_type": "execute_result"
    }
   ],
   "source": [
    "add(3,5) # 直接调用实例， 进入__call__"
   ]
  },
  {
   "cell_type": "code",
   "execution_count": 25,
   "metadata": {
    "ExecuteTime": {
     "end_time": "2019-09-18T13:32:22.996927Z",
     "start_time": "2019-09-18T13:32:22.993217Z"
    }
   },
   "outputs": [
    {
     "data": {
      "text/plain": [
       "<function __main__.add>"
      ]
     },
     "execution_count": 25,
     "metadata": {},
     "output_type": "execute_result"
    }
   ],
   "source": [
    "add.func # 实现实例方法"
   ]
  },
  {
   "cell_type": "markdown",
   "metadata": {},
   "source": [
    "## 内置装饰器：property\n",
    "\n",
    "以上，我们介绍的都是自定义的装饰器。\n",
    "\n",
    "其实Python语言本身也有一些装饰器。比如property这个内建装饰器，我们再熟悉不过了。\n",
    "\n",
    "它通常存在于类中，可以将一个函数定义成一个属性，属性的值就是该函数return的内容。\n",
    "\n",
    "通常我们给实例绑定属性是这样的"
   ]
  },
  {
   "cell_type": "code",
   "execution_count": 26,
   "metadata": {
    "ExecuteTime": {
     "end_time": "2019-09-18T13:32:23.002794Z",
     "start_time": "2019-09-18T13:32:22.998638Z"
    },
    "collapsed": true
   },
   "outputs": [],
   "source": [
    "class Student(object):\n",
    "    def __init__(self, name, age=None):\n",
    "        self.name = name\n",
    "        self.age = age\n",
    "        "
   ]
  },
  {
   "cell_type": "code",
   "execution_count": 27,
   "metadata": {
    "ExecuteTime": {
     "end_time": "2019-09-18T13:32:23.008140Z",
     "start_time": "2019-09-18T13:32:23.004973Z"
    },
    "collapsed": true
   },
   "outputs": [],
   "source": [
    "# 实例化\n",
    "XiaoMing = Student('小明')"
   ]
  },
  {
   "cell_type": "code",
   "execution_count": 28,
   "metadata": {
    "ExecuteTime": {
     "end_time": "2019-09-18T13:32:23.012140Z",
     "start_time": "2019-09-18T13:32:23.009873Z"
    },
    "collapsed": true
   },
   "outputs": [],
   "source": [
    "# 添加属性\n",
    "XiaoMing.age = 25"
   ]
  },
  {
   "cell_type": "code",
   "execution_count": 29,
   "metadata": {
    "ExecuteTime": {
     "end_time": "2019-09-18T13:32:23.017335Z",
     "start_time": "2019-09-18T13:32:23.014049Z"
    }
   },
   "outputs": [
    {
     "data": {
      "text/plain": [
       "25"
      ]
     },
     "execution_count": 29,
     "metadata": {},
     "output_type": "execute_result"
    }
   ],
   "source": [
    "# 查询属性\n",
    "XiaoMing.age"
   ]
  },
  {
   "cell_type": "code",
   "execution_count": 30,
   "metadata": {
    "ExecuteTime": {
     "end_time": "2019-09-18T13:32:23.022343Z",
     "start_time": "2019-09-18T13:32:23.019210Z"
    },
    "collapsed": true
   },
   "outputs": [],
   "source": [
    "# 删除属性\n",
    "del XiaoMing.age"
   ]
  },
  {
   "cell_type": "markdown",
   "metadata": {},
   "source": [
    "但是稍有经验的开发人员，一下就可以看出，这样直接把属性暴露出去，虽然写起来很简单，但是并不能对属性的值做合法性限制。为了实现这个功能，我们可以这样写。"
   ]
  },
  {
   "cell_type": "code",
   "execution_count": 31,
   "metadata": {
    "ExecuteTime": {
     "end_time": "2019-09-18T13:32:23.038102Z",
     "start_time": "2019-09-18T13:32:23.024877Z"
    },
    "collapsed": true
   },
   "outputs": [],
   "source": [
    "class Student(object):\n",
    "    def __init__(self, name):\n",
    "        self.name = name\n",
    "        \n",
    "    def set_age(self, age):\n",
    "        if not isinstance(age, int):\n",
    "            raise ValueError('输入不合法：年龄必须为数值！')\n",
    "        if not 0< age < 100:\n",
    "            raise ValueError(\"输入不合法：年龄范围必须为0～100\")\n",
    "            \n",
    "        self._age = age\n",
    "        \n",
    "    def get_age(self):\n",
    "        return self._age\n",
    "    \n",
    "    def del_age(self):\n",
    "        self._age = None"
   ]
  },
  {
   "cell_type": "code",
   "execution_count": 32,
   "metadata": {
    "ExecuteTime": {
     "end_time": "2019-09-18T13:32:23.043217Z",
     "start_time": "2019-09-18T13:32:23.040106Z"
    },
    "collapsed": true
   },
   "outputs": [],
   "source": [
    "XiaoMing = Student(\"小明\")"
   ]
  },
  {
   "cell_type": "code",
   "execution_count": 33,
   "metadata": {
    "ExecuteTime": {
     "end_time": "2019-09-18T13:32:23.048020Z",
     "start_time": "2019-09-18T13:32:23.045064Z"
    },
    "collapsed": true
   },
   "outputs": [],
   "source": [
    "# 添加属性\n",
    "XiaoMing.set_age(25)"
   ]
  },
  {
   "cell_type": "code",
   "execution_count": 34,
   "metadata": {
    "ExecuteTime": {
     "end_time": "2019-09-18T13:32:23.055775Z",
     "start_time": "2019-09-18T13:32:23.051180Z"
    }
   },
   "outputs": [
    {
     "data": {
      "text/plain": [
       "25"
      ]
     },
     "execution_count": 34,
     "metadata": {},
     "output_type": "execute_result"
    }
   ],
   "source": [
    "# 查询属性\n",
    "XiaoMing.get_age()"
   ]
  },
  {
   "cell_type": "code",
   "execution_count": 35,
   "metadata": {
    "ExecuteTime": {
     "end_time": "2019-09-18T13:32:23.060098Z",
     "start_time": "2019-09-18T13:32:23.057553Z"
    },
    "collapsed": true
   },
   "outputs": [],
   "source": [
    "# 删除属性\n",
    "XiaoMing.del_age()"
   ]
  },
  {
   "cell_type": "markdown",
   "metadata": {},
   "source": [
    "上面的代码设计虽然可以变量的定义，但是可以发现不管是获取还是赋值（通过函数）都和我们平时见到的不一样。 按照我们思维习惯应该是这样的。\n",
    "\n",
    "```\n",
    "# 赋值\n",
    "XiaoMing.age = 25\n",
    "\n",
    "# 获取\n",
    "XiaoMing.age\n",
    "```\n",
    "\n",
    "那么，这样的获取方式如何实现呢？"
   ]
  },
  {
   "cell_type": "code",
   "execution_count": 36,
   "metadata": {
    "ExecuteTime": {
     "end_time": "2019-09-18T13:32:23.080675Z",
     "start_time": "2019-09-18T13:32:23.062084Z"
    },
    "collapsed": true
   },
   "outputs": [],
   "source": [
    "class Student(object):\n",
    "    def __init__(self,name):\n",
    "        self.name = name\n",
    "        self._age = None\n",
    "        \n",
    "    @property\n",
    "    def age(self):\n",
    "        return self._age\n",
    "    \n",
    "    @age.setter\n",
    "    def age(self, value):\n",
    "        if not isinstance(value, int):\n",
    "            raise ValueError(\"输入不合法：年龄必须为数值\")\n",
    "        if not 0 < value < 100:\n",
    "            raise ValueError(\"输入不合法：年龄必须为0～100\")\n",
    "            \n",
    "        self._age = value\n",
    "        \n",
    "    @age.deleter\n",
    "    def age(self):\n",
    "        del self._age"
   ]
  },
  {
   "cell_type": "code",
   "execution_count": 37,
   "metadata": {
    "ExecuteTime": {
     "end_time": "2019-09-18T13:32:23.085633Z",
     "start_time": "2019-09-18T13:32:23.083270Z"
    },
    "collapsed": true
   },
   "outputs": [],
   "source": [
    "XiaoMing = Student('小明')"
   ]
  },
  {
   "cell_type": "code",
   "execution_count": 38,
   "metadata": {
    "ExecuteTime": {
     "end_time": "2019-09-18T13:32:23.090016Z",
     "start_time": "2019-09-18T13:32:23.087256Z"
    },
    "collapsed": true
   },
   "outputs": [],
   "source": [
    "XiaoMing.age = 25"
   ]
  },
  {
   "cell_type": "code",
   "execution_count": 39,
   "metadata": {
    "ExecuteTime": {
     "end_time": "2019-09-18T13:32:23.095351Z",
     "start_time": "2019-09-18T13:32:23.091572Z"
    }
   },
   "outputs": [
    {
     "data": {
      "text/plain": [
       "25"
      ]
     },
     "execution_count": 39,
     "metadata": {},
     "output_type": "execute_result"
    }
   ],
   "source": [
    "XiaoMing.age"
   ]
  },
  {
   "cell_type": "code",
   "execution_count": 40,
   "metadata": {
    "ExecuteTime": {
     "end_time": "2019-09-18T13:32:23.099436Z",
     "start_time": "2019-09-18T13:32:23.097139Z"
    },
    "collapsed": true
   },
   "outputs": [],
   "source": [
    "del XiaoMing.age"
   ]
  },
  {
   "cell_type": "markdown",
   "metadata": {},
   "source": [
    "用**`@property`**装饰过的函数，会将一个函数定义成一个属性，属性的值就是该函数return的内容。同时，会将这个函数变成另外一个装饰器。就像后面我们使用的**`@age.setter`**和**`@age.deleter`**。\n",
    "\n",
    "**`@age.setter`** 使得我们可以使用XiaoMing.age = 25这样的方式直接赋值。\n",
    "\n",
    "**`@age.deleter`**使得我们可以使用del XiaoMing.age这样的方式来删除属性。"
   ]
  },
  {
   "cell_type": "code",
   "execution_count": null,
   "metadata": {
    "collapsed": true
   },
   "outputs": [],
   "source": []
  }
 ],
 "metadata": {
  "kernelspec": {
   "display_name": "Python 3",
   "language": "python",
   "name": "python3"
  },
  "language_info": {
   "codemirror_mode": {
    "name": "ipython",
    "version": 3
   },
   "file_extension": ".py",
   "mimetype": "text/x-python",
   "name": "python",
   "nbconvert_exporter": "python",
   "pygments_lexer": "ipython3",
   "version": "3.6.2"
  },
  "toc": {
   "base_numbering": 1,
   "nav_menu": {},
   "number_sections": true,
   "sideBar": true,
   "skip_h1_title": false,
   "title_cell": "Table of Contents",
   "title_sidebar": "Contents",
   "toc_cell": false,
   "toc_position": {},
   "toc_section_display": true,
   "toc_window_display": false
  },
  "varInspector": {
   "cols": {
    "lenName": 16,
    "lenType": 16,
    "lenVar": 40
   },
   "kernels_config": {
    "python": {
     "delete_cmd_postfix": "",
     "delete_cmd_prefix": "del ",
     "library": "var_list.py",
     "varRefreshCmd": "print(var_dic_list())"
    },
    "r": {
     "delete_cmd_postfix": ") ",
     "delete_cmd_prefix": "rm(",
     "library": "var_list.r",
     "varRefreshCmd": "cat(var_dic_list()) "
    }
   },
   "types_to_exclude": [
    "module",
    "function",
    "builtin_function_or_method",
    "instance",
    "_Feature"
   ],
   "window_display": false
  }
 },
 "nbformat": 4,
 "nbformat_minor": 2
}
